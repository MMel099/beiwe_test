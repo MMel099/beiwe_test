{
 "cells": [
  {
   "cell_type": "markdown",
   "metadata": {},
   "source": [
    "# Utils Notebook\n",
    "\n",
    "This notebook illustrates the use of some of the utility functions."
   ]
  },
  {
   "cell_type": "markdown",
   "metadata": {},
   "source": [
    "### Check the size of passive data files and survey files\n",
    "\n",
    "This script prints out the size of different passive data streams and surveys as specified by the user.\n",
    "\n",
    "JP Onnela / June 27, 2018"
   ]
  },
  {
   "cell_type": "code",
   "execution_count": 1,
   "metadata": {},
   "outputs": [],
   "source": [
    "# import utils.py as a module; provide the correct path here\n",
    "import imp\n",
    "utils = imp.load_source(\"utils\", \"/Users/onnela/Dropbox/JP/beiwe/code/utils.py\")"
   ]
  },
  {
   "cell_type": "code",
   "execution_count": 2,
   "metadata": {},
   "outputs": [
    {
     "name": "stdout",
     "output_type": "stream",
     "text": [
      "Help on function check_file_size in module utils:\n",
      "\n",
      "check_file_size(data_dir, dates, subjects, surveys, data_stream_indices)\n",
      "    Function to loop over all specified dates, subjects, data streams and surveys.\n",
      "    Prints out the file sizes for each.\n",
      "    \n",
      "    Args:\n",
      "        data_dir (str): Location of the directory called \"data\" as downloaded from Beiwe\n",
      "        dates (list): List of dates to check\n",
      "        subjects (list): List of Beiwe subject IDs to check\n",
      "        surveys (list): List of Beiwe survey IDs to check\n",
      "        data_stream_indices (list): List of integers corresponding to data types to check\n",
      "\n"
     ]
    }
   ],
   "source": [
    "help(utils.check_file_size)"
   ]
  },
  {
   "cell_type": "code",
   "execution_count": 3,
   "metadata": {},
   "outputs": [
    {
     "name": "stdout",
     "output_type": "stream",
     "text": [
      "Date: 2018-04-15\n",
      "-----------------\n",
      "Subject: 4sghwjfm\n",
      "  power_state total file size is 14777 bytes.\n",
      "  5aa8606103d3c4391076ba52 survey total file size is 0 bytes.\n",
      "  5ab4226e03d3c404bd282479 survey total file size is 0 bytes.\n",
      "\n",
      "Subject: ofuhx7fg\n",
      "  power_state total file size is 3474 bytes.\n",
      "  5aa8606103d3c4391076ba52 survey total file size is 3456 bytes.\n",
      "  5ab4226e03d3c404bd282479 survey total file size is 0 bytes.\n",
      "\n",
      "\n",
      "Date: 2018-04-16\n",
      "-----------------\n",
      "Subject: 4sghwjfm\n",
      "  power_state total file size is 28601 bytes.\n",
      "  5aa8606103d3c4391076ba52 survey total file size is 5098 bytes.\n",
      "  5ab4226e03d3c404bd282479 survey total file size is 1331 bytes.\n",
      "\n",
      "Subject: ofuhx7fg\n",
      "  power_state total file size is 3200 bytes.\n",
      "  5aa8606103d3c4391076ba52 survey total file size is 3572 bytes.\n",
      "  5ab4226e03d3c404bd282479 survey total file size is 1249 bytes.\n",
      "\n",
      "\n"
     ]
    }
   ],
   "source": [
    "# specify data directory, dates, subjects, surveys\n",
    "data_dir = \"/Users/onnela/Desktop/data/\"\n",
    "dates = [\"2018-04-15\", \"2018-04-16\"]\n",
    "subjects = [\"4sghwjfm\", \"ofuhx7fg\"]\n",
    "surveys = [\"5aa8606103d3c4391076ba52\", \"5ab4226e03d3c404bd282479\"]\n",
    "data_stream_indices = [6]\n",
    "\n",
    "utils.check_file_size(data_dir, dates, subjects, surveys, data_stream_indices)"
   ]
  },
  {
   "cell_type": "code",
   "execution_count": null,
   "metadata": {},
   "outputs": [],
   "source": []
  },
  {
   "cell_type": "code",
   "execution_count": null,
   "metadata": {},
   "outputs": [],
   "source": []
  }
 ],
 "metadata": {
  "kernelspec": {
   "display_name": "Python [conda env:anaconda]",
   "language": "python",
   "name": "conda-env-anaconda-py"
  },
  "language_info": {
   "codemirror_mode": {
    "name": "ipython",
    "version": 3
   },
   "file_extension": ".py",
   "mimetype": "text/x-python",
   "name": "python",
   "nbconvert_exporter": "python",
   "pygments_lexer": "ipython3",
   "version": "3.5.4"
  }
 },
 "nbformat": 4,
 "nbformat_minor": 2
}
