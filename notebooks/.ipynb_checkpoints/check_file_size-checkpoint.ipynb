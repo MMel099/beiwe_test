{
 "cells": [
  {
   "cell_type": "markdown",
   "metadata": {},
   "source": [
    "# Utils Notebook\n",
    "\n",
    "This notebook illustrates the use of some of the utility functions. Note that some of this has to be run in a Python virtual environment. See here:\n",
    "\n",
    "https://github.com/onnela-lab/beiwe/wiki/mano\n",
    "\n",
    "https://github.com/harvard-nrg/mano"
   ]
  },
  {
   "cell_type": "code",
   "execution_count": 1,
   "metadata": {
    "collapsed": true
   },
   "outputs": [],
   "source": [
    "# import utils.py as a module; provide the correct path here\n",
    "import os\n",
    "import imp\n",
    "utils = imp.load_source(\"utils\", os.path.expanduser(\"~/Dropbox/JP/beiwe/code/utils.py\"))"
   ]
  },
  {
   "cell_type": "markdown",
   "metadata": {},
   "source": [
    "### Download data from Beiwe\n",
    "\n",
    "This script downloads data from the Beiwe back-end. See the following for help:\n",
    "\n",
    "https://github.com/onnela-lab/beiwe/wiki/mano\n",
    "\n",
    "https://github.com/harvard-nrg/mano\n",
    "\n",
    "JP Onnela / June 30, 2018"
   ]
  },
  {
   "cell_type": "code",
   "execution_count": 2,
   "metadata": {},
   "outputs": [
    {
     "name": "stdout",
     "output_type": "stream",
     "text": [
      "Help on function download_beiwe_data in module utils:\n",
      "\n",
      "download_beiwe_data(study_id, data_streams, output_folder, time_end=None, time_start=None)\n",
      "    Download Beiwe data to a local directory. If time_start is not specified, extraction will\n",
      "    proceed one week from time_end. If time_end is not specified, today's date is use as default.\n",
      "    \n",
      "    Args:\n",
      "        study_no (str): Beiwe study ID, e.g. \"5a3a856203d3c42e31329970\"\n",
      "        data_streams (list): Names of data streams as strings to download\n",
      "        output_folder (str): Downloaded data will be stored here\n",
      "        time_end (str): End date of extraction in the format YYYY-MM-DD\n",
      "        time_start (str): Start date of extraction in the format YYYY-MM-DD\n",
      "    \n",
      "    Returns:\n",
      "        active_users (list): List of Beiwe user IDs for whom data directories were returned\n",
      "\n"
     ]
    }
   ],
   "source": [
    "help(utils.download_beiwe_data)"
   ]
  },
  {
   "cell_type": "code",
   "execution_count": 3,
   "metadata": {
    "collapsed": true
   },
   "outputs": [],
   "source": [
    "# study names and IDs\n",
    "studies = {1: (\"UCSD_Little_UNI_HIV_Pos\", \"5a3a856203d3c42e31329970\"), \\\n",
    "           2: (\"UCSD_Little_UNI_HIV_Neg\", \"5a3a85db03d3c42e3132998a\"), \\\n",
    "           3: (\"UCSD_Little_RDS Study\", \"5a3a862503d3c42e3217bb90\")}"
   ]
  },
  {
   "cell_type": "code",
   "execution_count": 4,
   "metadata": {},
   "outputs": [
    {
     "name": "stdout",
     "output_type": "stream",
     "text": [
      "  Processing study UCSD_Little_UNI_HIV_Neg (study ID 5a3a85db03d3c42e3132998a).\n",
      "enter keyring passphrase: ········\n",
      "  Extracting data from 2018-06-23T00:00:00 to 2018-06-30T00:00:00 to /tmp/beiwe-data/.\n",
      "  Downloading data for user 4k2zibq6.\n",
      "  Downloading data for user h9wtyf9o.\n",
      "  Downloading data for user jf69m2b8.\n",
      "  Downloading data for user w2fa1uu5.\n",
      "  Downloading data for user fvmuymh7.\n",
      "  Downloading data for user xwrpz42o.\n",
      "  Downloading data for user ofuhx7fg.\n",
      "  Downloading data for user 47zghzxj.\n",
      "  Downloading data for user e2loxwqb.\n",
      "  Downloading data for user 86h2jjyz.\n",
      "  Downloading data for user 5biz9f21.\n",
      "  Downloading data for user csd2q1bf.\n",
      "  Downloading data for user uzd11em8.\n",
      "  Downloading data for user lzhywkhd.\n",
      "  Downloading data for user 6isorvks.\n",
      "  Downloading data for user 7wl2dltq.\n",
      "  Downloading data for user nsabskmk.\n",
      "  Downloading data for user vy5p4iva.\n",
      "  Downloading data for user s8x47qv3.\n",
      "  Downloading data for user 5drn99jp.\n",
      "  Downloading data for user xns16dvw.\n",
      "  Downloading data for user fwkw9iwe.\n",
      "  Downloading data for user ojkb3lf7.\n",
      "  Downloading data for user t2lcq8b8.\n",
      "  Downloading data for user vvkwwcft.\n",
      "  Downloading data for user 6tu9ee3l.\n",
      "  Downloading data for user 9m33e1da.\n",
      "  Downloading data for user y9r1981r.\n",
      "  Downloading data for user 8grey26i.\n",
      "  Downloading data for user wd2bgq7s.\n",
      "  Downloading data for user hy4p4ly6.\n",
      "  Downloading data for user 2blxkh9t.\n",
      "  Downloading data for user 4sghwjfm.\n",
      "\n",
      "  Found data for the following users:\n",
      "  fvmuymh7\n",
      "  csd2q1bf\n",
      "  47zghzxj\n",
      "  5drn99jp\n",
      "  4k2zibq6\n"
     ]
    }
   ],
   "source": [
    "# specify study, data streams and output folder\n",
    "study_no = 2\n",
    "(study_name, study_id) = studies[study_no]\n",
    "print(\"  Processing study %s (study ID %s).\" % (study_name, study_id))\n",
    "data_streams = [\"power_state\", \"survey_answers\"]\n",
    "output_folder = \"/tmp/beiwe-data/\"\n",
    "\n",
    "# proceed with download\n",
    "subjects = utils.download_beiwe_data(study_id, data_streams, output_folder)"
   ]
  },
  {
   "cell_type": "markdown",
   "metadata": {},
   "source": [
    "### Check the size of passive data files and survey files\n",
    "\n",
    "This script prints out the size of different passive data streams and surveys as specified by the user. We assume you've run the notebook above.\n",
    "\n",
    "JP Onnela / June 27, 2018; June 30, 2018"
   ]
  },
  {
   "cell_type": "code",
   "execution_count": 5,
   "metadata": {},
   "outputs": [
    {
     "name": "stdout",
     "output_type": "stream",
     "text": [
      "Help on function check_file_size in module utils:\n",
      "\n",
      "check_file_size(data_dir, dates, subjects, surveys, data_streams)\n",
      "    Function to loop over all specified dates, subjects, data streams and surveys.\n",
      "    Prints out the file sizes for each.\n",
      "    \n",
      "    Args:\n",
      "        data_dir (str): Location of the directory called \"data\" as downloaded from Beiwe\n",
      "        dates (list): List of dates to check\n",
      "        subjects (list): List of Beiwe subject IDs to check\n",
      "        surveys (list): List of Beiwe survey IDs to check\n",
      "        data_streams (list): List of strings corresponding to data different streams:\n",
      "            \"accelerometer\", \"bluetooth\", \"calls\", \"gps\", \"identifiers\", \n",
      "            \"app_log\", \"power_state\", \"survey_answers\", \"survey_timings\", \n",
      "            \"texts\", \"audio_recordings\", \"wifi\", \"proximity\", \"gyro\", \n",
      "            \"magnetometer\", \"devicemotion\", \"reachability\", \"ios_log\", \"image_survey\"\n",
      "\n"
     ]
    }
   ],
   "source": [
    "help(utils.check_file_size)"
   ]
  },
  {
   "cell_type": "code",
   "execution_count": 6,
   "metadata": {},
   "outputs": [
    {
     "name": "stdout",
     "output_type": "stream",
     "text": [
      "Date: 2018-06-28\n",
      "-----------------\n",
      "Subject: fvmuymh7\n",
      "  power_state total file size is 22362 bytes.\n",
      "  survey_answers total file size is 0 bytes.\n",
      "  5aa8606103d3c4391076ba52 survey total file size is 0 bytes.\n",
      "\n",
      "Subject: csd2q1bf\n",
      "  power_state total file size is 0 bytes.\n",
      "  survey_answers total file size is 0 bytes.\n",
      "  5aa8606103d3c4391076ba52 survey total file size is 0 bytes.\n",
      "\n",
      "Subject: 47zghzxj\n",
      "  power_state total file size is 11960 bytes.\n",
      "  survey_answers total file size is 0 bytes.\n",
      "  5aa8606103d3c4391076ba52 survey total file size is 501 bytes.\n",
      "\n",
      "Subject: 5drn99jp\n",
      "  power_state total file size is 25542 bytes.\n",
      "  survey_answers total file size is 0 bytes.\n",
      "  5aa8606103d3c4391076ba52 survey total file size is 0 bytes.\n",
      "\n",
      "Subject: 4k2zibq6\n",
      "  power_state total file size is 11579 bytes.\n",
      "  survey_answers total file size is 0 bytes.\n",
      "  5aa8606103d3c4391076ba52 survey total file size is 0 bytes.\n",
      "\n",
      "\n"
     ]
    }
   ],
   "source": [
    "# specify data directory, dates, subjects, surveys\n",
    "data_dir = output_folder\n",
    "dates = [\"2018-06-28\"]\n",
    "subjects = subjects\n",
    "surveys = [\"5aa8606103d3c4391076ba52\"]\n",
    "\n",
    "utils.check_file_size(data_dir, dates, subjects, surveys, data_streams)"
   ]
  },
  {
   "cell_type": "code",
   "execution_count": null,
   "metadata": {
    "collapsed": true
   },
   "outputs": [],
   "source": []
  }
 ],
 "metadata": {
  "kernelspec": {
   "display_name": "mano-ljsF42e9",
   "language": "python",
   "name": "mano-ljsf42e9"
  },
  "language_info": {
   "codemirror_mode": {
    "name": "ipython",
    "version": 3
   },
   "file_extension": ".py",
   "mimetype": "text/x-python",
   "name": "python",
   "nbconvert_exporter": "python",
   "pygments_lexer": "ipython3",
   "version": "3.6.5"
  }
 },
 "nbformat": 4,
 "nbformat_minor": 2
}
