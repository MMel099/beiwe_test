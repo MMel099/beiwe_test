{
 "cells": [
  {
   "cell_type": "markdown",
   "metadata": {},
   "source": [
    "### Check the size of passive data files and survey files\n",
    "\n",
    "This script prints out the size of different passive data streams and surveys as specified by the user.\n",
    "\n",
    "JP Onnela / June 26, 2018"
   ]
  },
  {
   "cell_type": "code",
   "execution_count": 1,
   "metadata": {},
   "outputs": [
    {
     "name": "stdout",
     "output_type": "stream",
     "text": [
      "Date: 2018-04-15\n",
      "-----------------\n",
      "Subject: 4sghwjfm\n",
      "  power_state total file size: 14777 bytes.\n",
      "  Survey 5aa8606103d3c4391076ba52: Total file size is 0 bytes.\n",
      "  Survey 5ab4226e03d3c404bd282479: Total file size is 0 bytes.\n",
      "\n",
      "Subject: ofuhx7fg\n",
      "  power_state total file size: 3474 bytes.\n",
      "  Survey 5aa8606103d3c4391076ba52: Total file size is 3456 bytes.\n",
      "  Survey 5ab4226e03d3c404bd282479: Total file size is 0 bytes.\n",
      "\n",
      "\n",
      "Date: 2018-04-16\n",
      "-----------------\n",
      "Subject: 4sghwjfm\n",
      "  power_state total file size: 28601 bytes.\n",
      "  Survey 5aa8606103d3c4391076ba52: Total file size is 5098 bytes.\n",
      "  Survey 5ab4226e03d3c404bd282479: Total file size is 1331 bytes.\n",
      "\n",
      "Subject: ofuhx7fg\n",
      "  power_state total file size: 3200 bytes.\n",
      "  Survey 5aa8606103d3c4391076ba52: Total file size is 3572 bytes.\n",
      "  Survey 5ab4226e03d3c404bd282479: Total file size is 1249 bytes.\n",
      "\n",
      "\n"
     ]
    }
   ],
   "source": [
    "# imports\n",
    "import glob\n",
    "import os\n",
    "\n",
    "def check_file_size(data_dir, dates, subjects, surveys, data_streams, data_stream_indices):\n",
    "    \"\"\" Loop over all dates, all subjects, and all surveys.\"\"\"\n",
    "    for date in dates:\n",
    "        print(\"Date:\", date)\n",
    "        print(\"-----------------\")\n",
    "        for subject in subjects:\n",
    "            print(\"Subject:\", subject)\n",
    "\n",
    "            # passive data files\n",
    "            for data_stream_index in data_stream_indices:\n",
    "                files = glob.glob(data_dir + subject + \"/\" + data_streams[data_stream_index] + \"/\" + date + \"*\")\n",
    "                total_size = 0\n",
    "                for file in files:\n",
    "                    total_size += os.path.getsize(file)\n",
    "                print(\"  %s total file size: %d bytes.\" % (data_streams[data_stream_index], total_size))\n",
    "\n",
    "            # survey files\n",
    "            for survey in surveys:\n",
    "                files = glob.glob(data_dir + subject + \"/survey_answers/\" + survey + \"/\" + date + \"*\")\n",
    "                total_size = 0\n",
    "                for file in files:\n",
    "                    total_size += os.path.getsize(file)\n",
    "                print(\"  Survey %s: Total file size is %d bytes.\" % (survey, total_size))\n",
    "            print(\"\")\n",
    "        print(\"\")\n",
    "\n",
    "# ---------------------------\n",
    "        \n",
    "# specify data directory, dates, subjects, surveys\n",
    "data_dir = \"./data/\"\n",
    "dates = [\"2018-04-15\", \"2018-04-16\"]\n",
    "subjects = [\"4sghwjfm\", \"ofuhx7fg\"]\n",
    "surveys = [\"5aa8606103d3c4391076ba52\", \"5ab4226e03d3c404bd282479\"]\n",
    "data_streams = [\"accelerometer\", \"bluetooth\", \"calls\", \"gps\", \"identifiers\", \\\n",
    "                \"app_log\", \"power_state\", \"survey_answers\", \"survey_timings\", \\\n",
    "                \"texts\", \"audio_recordings\", \"wifi\", \"proximity\", \"gyro\", \\\n",
    "                \"magnetometer\", \"devicemotion\", \"reachability\", \"ios_log\", \"image_survey\"]\n",
    "data_stream_indices = [6]\n",
    "\n",
    "check_file_size(data_dir, dates, subjects, surveys, data_streams, data_stream_indices)"
   ]
  },
  {
   "cell_type": "code",
   "execution_count": null,
   "metadata": {},
   "outputs": [],
   "source": []
  }
 ],
 "metadata": {
  "kernelspec": {
   "display_name": "Python [conda env:anaconda]",
   "language": "python",
   "name": "conda-env-anaconda-py"
  },
  "language_info": {
   "codemirror_mode": {
    "name": "ipython",
    "version": 3
   },
   "file_extension": ".py",
   "mimetype": "text/x-python",
   "name": "python",
   "nbconvert_exporter": "python",
   "pygments_lexer": "ipython3",
   "version": "3.5.4"
  }
 },
 "nbformat": 4,
 "nbformat_minor": 2
}
